{
 "cells": [
  {
   "cell_type": "markdown",
   "id": "8c568e8c-9d82-4870-954f-38e336373b84",
   "metadata": {},
   "source": [
    "# Project Proposal "
   ]
  },
  {
   "cell_type": "markdown",
   "id": "ef7cc2d9-0f47-4a46-aedf-ca5bbe57717e",
   "metadata": {},
   "source": [
    "### Livleen Randhawa"
   ]
  },
  {
   "cell_type": "markdown",
   "id": "a45090c6-35a6-43cd-9b89-3829cfc177c9",
   "metadata": {},
   "source": [
    "## Introduction"
   ]
  },
  {
   "cell_type": "markdown",
   "id": "03abb473-7900-45d2-bfee-a14e5a398263",
   "metadata": {},
   "source": [
    "The term heart disease refers to a type of disease that effects the heart and/or blood vessels. Risk factors for heart disease include high blood pressure and high cholesterol (National Cancer Institute, n.d.).\n",
    "\n",
    "High blood pressure is linked to heart disease as it can narrow and damage the arteries that deliver blood to the heart (Mayo Clinic, 2023). While Cholesterol is important for healthy cells, high levels of cholesterol result in fatty deposits in blood vessels that clog them. The deposits grow, restricting blood flow linking high cholesterol to heart disease (Mayo Clinic, 2023).\n",
    "\n",
    "The objective  of this project will be to use these risk factors to classify patients based on likeliness to have heart disease.\n",
    "\n",
    "The question I will be addressing is: Can the blood pressure and cholesterol of a patient accuraturely predict whether they have heart disease or not?"
   ]
  },
  {
   "cell_type": "markdown",
   "id": "5cbed483-55b7-4b8c-a101-9ea35d159abb",
   "metadata": {},
   "source": [
    "## Preliminary Exploratory Data Analysis "
   ]
  },
  {
   "cell_type": "code",
   "execution_count": null,
   "id": "9b342ace-9801-480d-a61b-7e5589c05b48",
   "metadata": {},
   "outputs": [],
   "source": [
    "#add library\n",
    "library(tidyverse)\n",
    "library(repr)\n",
    "library(tidymodels)\n",
    "options(repr.matrix.max.rows = 6)"
   ]
  },
  {
   "cell_type": "code",
   "execution_count": null,
   "id": "5f2afdff-2d59-49d5-8539-0a3eb431a8b6",
   "metadata": {},
   "outputs": [],
   "source": [
    "#set the seed \n",
    "set.seed(4567)"
   ]
  },
  {
   "cell_type": "code",
   "execution_count": null,
   "id": "dc8e94d8-66f4-4bed-8dbb-6a8c4e351a79",
   "metadata": {},
   "outputs": [],
   "source": [
    "#reading in the data\n",
    "cleveland_data <- read_csv(\"data/heart_disease/processed.cleveland.data\", col_names = FALSE)"
   ]
  },
  {
   "cell_type": "code",
   "execution_count": null,
   "id": "2dd05399-0e0d-4693-b0cb-b578ea636dc5",
   "metadata": {},
   "outputs": [],
   "source": [
    "#adding column names \n",
    "colnames(cleveland_data) <- c(\"age\", \"sex\", \"cp\", \"trestbps\", \"chol\", \"fbs\", \"restecg\", \"thalach\", \"exang\", \"oldpeak\", \"slope\",\"ca\", \"thal\", \"num\")\n",
    "cleveland_data"
   ]
  },
  {
   "cell_type": "code",
   "execution_count": null,
   "id": "1cc6a41a-f59a-479a-a7ad-47d47907cb1a",
   "metadata": {},
   "outputs": [],
   "source": [
    "#making the target binary \n",
    "cleveland_data <- cleveland_data|> \n",
    "                   mutate(num = case_when(num >= 1 ~ \"presence\",\n",
    "                                          num == 0 ~ \"absence\"))\n",
    "cleveland_data"
   ]
  },
  {
   "cell_type": "code",
   "execution_count": null,
   "id": "c6afdf73-7a93-49c6-91f2-e8ee044e8ef8",
   "metadata": {},
   "outputs": [],
   "source": [
    "#removing columns with NA values \n",
    "cleveland_data <- cleveland_data|>\n",
    "                  select(-ca, -thal)\n",
    "cleveland_data"
   ]
  },
  {
   "cell_type": "code",
   "execution_count": null,
   "id": "597dab4e-30b7-4c4b-abd8-e1f6bb475136",
   "metadata": {},
   "outputs": [],
   "source": [
    "#splitting the data \n",
    "cleveland_split <- initial_split(cleveland_data, prop = 0.75, strata = num)\n",
    "cleveland_train <- training(cleveland_split)\n",
    "cleveland_test <- testing(cleveland_split)\n",
    "cleveland_train"
   ]
  },
  {
   "cell_type": "code",
   "execution_count": null,
   "id": "4e5ea108-11c8-4d6f-973b-53b7c070d8f1",
   "metadata": {},
   "outputs": [],
   "source": [
    "#summary of training data \n",
    "cleveland_train_explore <- cleveland_train|>\n",
    "                            select(chol, trestbps, num)|>\n",
    "                            group_by(num) |>\n",
    "                            summarize(\n",
    "                            count = n(),\n",
    "                            mean_chol = mean(chol),\n",
    "                            mean_trestbps = mean(trestbps)\n",
    "                            )\n",
    "cleveland_train_explore"
   ]
  },
  {
   "cell_type": "code",
   "execution_count": null,
   "id": "82829357-9031-423b-8544-e99e3a04077a",
   "metadata": {},
   "outputs": [],
   "source": [
    "#visualization of training data \n",
    "cleveland_plot <- ggplot(cleveland_train, aes(x= chol, y = trestbps, color = num))+\n",
    "        geom_point()+\n",
    "        xlab(\"Serum Cholestrol (mg/dl)\")+\n",
    "        ylab(\"Resting Blood Pressure\")+\n",
    "        labs(colour = \"Heart Disease\")\n",
    "cleveland_plot "
   ]
  },
  {
   "cell_type": "markdown",
   "id": "19969e33-de69-4fac-ac43-bd66bb133831",
   "metadata": {},
   "source": [
    "## Methods"
   ]
  },
  {
   "cell_type": "markdown",
   "id": "cd0082da-0973-41d7-aefd-f35b44ff5f75",
   "metadata": {},
   "source": [
    "I am using processed.cleveland.data from the Heart Disease Database to predict if a patient from Cleveland will have heart disease. The columns are:\n",
    "\n",
    "age: age\n",
    "\n",
    "sex: sex (1 = male, 0 = female)\n",
    "\n",
    "cp: chest pain type\n",
    "\n",
    "trestbps: resting blood pressure in mmHg\n",
    "\n",
    "chol: serum cholestoral in mg/dl\n",
    "\n",
    "fbs: fasting blood sugar > 120 mg/dl? (1 = True, 0 = False)\n",
    "\n",
    "restecg: resting electrocardiographic results\n",
    "\n",
    "thalach: maximum heart rate achieved\n",
    "\n",
    "exang: whether exercise induced angina (1 = True, 0 = False)\n",
    "\n",
    "oldpeak: ST depression induced by exercise, relative to rest\n",
    "\n",
    "slope: the slope of the peak exercise ST segment (1 = upslope, 2 = flat, 3 = downslope)\n",
    "\n",
    "ca: number of major vessels (0-3) colored by flourosopy\n",
    "\n",
    "thal: (3 = normal, 6 = fixed defect, 7 = reversable defect)\n",
    "\n",
    "num: diagnosis of heart disease (1,2,3,4 = presence, 0 = no presence)\n",
    "\n",
    "To clean the data, I removed the columns with missing data. Since num uses integers to distinguish presence (1,2,3,4) from absence (0), and we want to determine whether or not a patient has heart disease, a new binary column diag has been appended to narrow diagnoses down to absence or presence.\n",
    "\n",
    "I used initial_split() to split our dataframe into 75% training and 25% testing data, stratifying for diag and am only using the training set for analysis.\n",
    "\n",
    "To summarize our data, I grouped by num then summarized for the mean for the predictors I'm using, chol and trestbps. I noted that the mean cholesterol and blood pressure of patients with heart disease is higher. \n",
    "\n",
    "To visualize relationships in our data, I generated a scatter plot, plotting the two predictors against each other, and colouring the data points based on whether heart disease was absent or present.  "
   ]
  },
  {
   "cell_type": "markdown",
   "id": "5e31487a-c172-4e13-95bc-e2e030785b33",
   "metadata": {},
   "source": [
    "## Expected outcomes and significance "
   ]
  },
  {
   "cell_type": "markdown",
   "id": "563066b7-c26c-408f-9d2d-5e1866984ca3",
   "metadata": {},
   "source": [
    "I expect to find that high cholesterol and blood pressure are predictors for heart disease. \n",
    "\n",
    "Being able to use an accurate classification system for heart disease could make it easier for doctors to diagnose patients, helping patients get treatment earlier.\n",
    "\n",
    "Some future questions this could lead to are:\n",
    "\n",
    "What measures can be taken to prevent heart disease?\n",
    "Are there other predictors for heart disease with more significant relationships?"
   ]
  },
  {
   "cell_type": "markdown",
   "id": "0cc1c7c7-b8f0-4a8a-934e-501e1ac68bbc",
   "metadata": {},
   "source": [
    "## References "
   ]
  },
  {
   "cell_type": "markdown",
   "id": "beb6e5f4-d5d6-42c0-949b-00fecf7c2cb8",
   "metadata": {},
   "source": [
    "1. Mayo Foundation for Medical Education and Research. (2023a, January 11). High cholesterol. Mayo Clinic. https://www.mayoclinic.org/diseases-conditions/high-blood-cholesterol/symptoms-causes/syc-20350800#:~:text=Your%20body%20needs%20cholesterol%20to,to%20flow%20through%20your%20arteries. \n",
    "2. Mayo Foundation for Medical Education and Research. (2023b, November 28). How high blood pressure can affect the body. Mayo Clinic. https://www.mayoclinic.org/diseases-conditions/high-blood-pressure/in-depth/high-blood-pressure/art-20045868 \n",
    "3. NCI Dictionary of Cancer terms. Comprehensive Cancer Information - NCI. (n.d.). https://www.cancer.gov/publications/dictionaries/cancer-terms/def/heart-disease "
   ]
  }
 ],
 "metadata": {
  "kernelspec": {
   "display_name": "R",
   "language": "R",
   "name": "ir"
  },
  "language_info": {
   "codemirror_mode": "r",
   "file_extension": ".r",
   "mimetype": "text/x-r-source",
   "name": "R",
   "pygments_lexer": "r",
   "version": "4.3.1"
  }
 },
 "nbformat": 4,
 "nbformat_minor": 5
}
